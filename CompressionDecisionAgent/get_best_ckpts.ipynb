{
 "cells": [
  {
   "cell_type": "code",
   "execution_count": 4,
   "id": "df932cf9-8cd1-469e-9815-31e5d5d1a540",
   "metadata": {},
   "outputs": [],
   "source": [
    "import sys\n",
    "sys.path.append(\"/home/user/Workspace/super_resolution/CompressAgent/\")\n",
    "\n",
    "import glob\n",
    "import pytorch_lightning as pl\n",
    "from models.model import define_model\n",
    "from models.model_interface import CompressionAgentModule\n",
    "\n",
    "model = define_model(model_name=\"resnet18\", num_classes=2)\n",
    "model_interface = CompressionAgentModule(\n",
    "    model=model, \n",
    "    len_train_dataloader=1,\n",
    "    len_valid_dataloader=1, \n",
    "    learning_rate=1,\n",
    "    reward_lambda_coef=1,\n",
    "    dice_threshold=0.5\n",
    ")"
   ]
  },
  {
   "cell_type": "code",
   "execution_count": 8,
   "id": "0eb2383e-1c02-42b1-b952-de790581c6a1",
   "metadata": {},
   "outputs": [],
   "source": [
    "lambdas = [\n",
    "    \"0.10\", \"0.25\", \"0.50\", \"0.75\", \"1.00\"\n",
    "]\n",
    "\n",
    "ckpts = [\n",
    "    \"./weights/CompressAgent_lr-5e-05_lambda-0.1_iter-1/*.ckpt\",\n",
    "    \"./weights/CompressAgent_lr-1e-05_lambda-0.25_iter-0/*.ckpt\",\n",
    "    \"./weights/CompressAgent_lr-5e-06_lambda-0.5_iter-0/*.ckpt\",\n",
    "    \"./weights/CompressAgent_lr-5e-06_lambda-0.75_iter-1/*.ckpt\",\n",
    "    \"./weights/CompressAgent_lr-1e-06_lambda-1.0_iter-1/*.ckpt\"\n",
    "]"
   ]
  },
  {
   "cell_type": "code",
   "execution_count": 9,
   "id": "507a9391-d01f-4be8-8e2f-a1bc7a42d551",
   "metadata": {},
   "outputs": [
    {
     "data": {
      "text/plain": [
       "['./weights/CompressAgent_lr-5e-05_lambda-0.1_iter-1/CompressAgent-epoch=001-valid_loss=85.4029-valid_reward=0.4272.ckpt']"
      ]
     },
     "execution_count": 9,
     "metadata": {},
     "output_type": "execute_result"
    }
   ],
   "source": [
    "for lambda_, ckpt in zip(lambdas, ckpts):\n",
    "    best_ckpt_path = glob.glob(ckpt)[0]\n",
    "\n",
    "    model_interface.load_from_checkpoint(\n",
    "        best_ckpt_path,\n",
    "        model=model, \n",
    "        len_train_dataloader=1, \n",
    "        len_valid_dataloader=1\n",
    "    )\n",
    "\n",
    "    torch.save(model_interface.model.state_dict(), f\"CompressionAgent_lambda-{lambda_}.\")"
   ]
  },
  {
   "cell_type": "code",
   "execution_count": null,
   "id": "e7fd3d15-3bf8-4722-b85f-76e4d173464f",
   "metadata": {},
   "outputs": [],
   "source": []
  }
 ],
 "metadata": {
  "kernelspec": {
   "display_name": "Python 3 (ipykernel)",
   "language": "python",
   "name": "python3"
  },
  "language_info": {
   "codemirror_mode": {
    "name": "ipython",
    "version": 3
   },
   "file_extension": ".py",
   "mimetype": "text/x-python",
   "name": "python",
   "nbconvert_exporter": "python",
   "pygments_lexer": "ipython3",
   "version": "3.8.18"
  }
 },
 "nbformat": 4,
 "nbformat_minor": 5
}
