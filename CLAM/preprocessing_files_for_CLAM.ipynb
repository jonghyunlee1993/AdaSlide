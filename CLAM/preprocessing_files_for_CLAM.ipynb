{
 "cells": [
  {
   "cell_type": "code",
   "execution_count": 31,
   "id": "9162ed09-cba3-41e0-8530-0964af82e1fc",
   "metadata": {},
   "outputs": [],
   "source": [
    "import glob\n",
    "import shutil\n",
    "import pandas as pd\n",
    "\n",
    "PROJECT_NAME = \"RCC\"\n",
    "\n",
    "df = pd.DataFrame(glob.glob(f\"/data/{PROJECT_NAME}/*/*.svs\"), columns=[\"fname\"])\n",
    "df.loc[:, [\"case_id\", \"slide_id\", \"label\"]] = \"\"\n",
    "\n",
    "df.label = df.fname.map(lambda x: 0 if x.split(\"/\")[3] == \"luad\" else 1)\n",
    "df.case_id = df.fname.map(lambda x: (\"-\").join(x.split(\"/\")[-1].split(\"-\")[:3]))\n",
    "df.slide_id = df.fname.map(lambda x: (\"-\").join(x.split(\"/\")[-1].split(\".\")[0].split(\"-\")[3:]))\n",
    "\n",
    "df = df.drop(\"fname\", axis=1)\n",
    "df.to_csv(f\"/home/user/Workspace/super_resolution/CLAM/dataset_csv/{PROJECT_NAME}.csv\", index=False)"
   ]
  },
  {
   "cell_type": "code",
   "execution_count": 32,
   "id": "9d7ac66b-efc3-44e6-bc71-4ea39d9307b7",
   "metadata": {},
   "outputs": [],
   "source": [
    "for f in glob.glob(f\"/data/{PROJECT_NAME}/*/*.svs\"):\n",
    "    shutil.move(f, (\"/\").join(f.split(\"/\")[:3] + f.split(\"/\")[4:]))"
   ]
  },
  {
   "cell_type": "code",
   "execution_count": 40,
   "id": "485131ac-91bc-461f-9985-48fd9ac41663",
   "metadata": {},
   "outputs": [],
   "source": [
    "PROJECT_NAME = \"NSCLC\"\n",
    "\n",
    "for f in glob.glob(f\"/data/{PROJECT_NAME}/*.svs\"):\n",
    "    shutil.move(f, f.split(\".\")[0] + \".\" + f.split(\".\")[-1])"
   ]
  },
  {
   "cell_type": "code",
   "execution_count": null,
   "id": "3c659469-4466-4a66-901d-a4e5fcb503e7",
   "metadata": {},
   "outputs": [],
   "source": [
    "import glob\n",
    "import shutil\n",
    "import pandas as pd\n",
    "\n",
    "PROJECT_NAME = \"RCC\"\n",
    "\n",
    "df = pd.DataFrame(glob.glob(f\"/media/user/Extreme\\ SSD/RCC/*/*.svs\"), columns=[\"fname\"])\n",
    "df.loc[:, [\"case_id\", \"slide_id\", \"label\"]] = \"\"\n",
    "\n",
    "def gen_label(x):\n",
    "    if x == \"kich\":\n",
    "        return 0\n",
    "    elif x == \"kirc\":\n",
    "        return 1\n",
    "    elif x == \"kirp\":\n",
    "        return 2\n",
    "\n",
    "df.label = df.fname.map(lambda x: gen_label(x.split(\"/\")[3]))\n",
    "df.case_id = df.fname.map(lambda x: (\"-\").join(x.split(\"/\")[-1].split(\"-\")[:3]))\n",
    "df.slide_id = df.fname.map(lambda x: (\"-\").join(x.split(\"/\")[-1].split(\".\")[0].split(\"-\")[3:]))\n",
    "\n",
    "df = df.drop(\"fname\", axis=1)"
   ]
  }
 ],
 "metadata": {
  "kernelspec": {
   "display_name": "Python 3 (ipykernel)",
   "language": "python",
   "name": "python3"
  },
  "language_info": {
   "codemirror_mode": {
    "name": "ipython",
    "version": 3
   },
   "file_extension": ".py",
   "mimetype": "text/x-python",
   "name": "python",
   "nbconvert_exporter": "python",
   "pygments_lexer": "ipython3",
   "version": "3.8.18"
  }
 },
 "nbformat": 4,
 "nbformat_minor": 5
}
